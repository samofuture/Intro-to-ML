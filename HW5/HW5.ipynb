{
 "cells": [
  {
   "cell_type": "markdown",
   "metadata": {},
   "source": [
    "# Homework #5\n",
    "---\n",
    "Student Name: Sam Crane\n",
    "\n",
    "Student ID: 801101091\n",
    "\n",
    "GitHub: https://github.com/samofuture/Intro-to-ML"
   ]
  },
  {
   "cell_type": "code",
   "execution_count": 794,
   "metadata": {},
   "outputs": [],
   "source": [
    "# %matplotlib inline\n",
    "import numpy as np\n",
    "import matplotlib.pyplot as plt\n",
    "import pandas as pd\n",
    "from sklearn.model_selection import train_test_split\n",
    "from sklearn.preprocessing import StandardScaler\n",
    "import torch\n",
    "import torch.optim as optim\n",
    "# use seaborn plotting defaults\n",
    "import seaborn as sns; sns.set()"
   ]
  },
  {
   "cell_type": "markdown",
   "metadata": {},
   "source": [
    "# Problem 1"
   ]
  },
  {
   "cell_type": "code",
   "execution_count": 795,
   "metadata": {},
   "outputs": [],
   "source": [
    "def loss_fn(t_p, t_c):\n",
    "    squared_diffs = (t_p - t_c)**2\n",
    "    return squared_diffs.mean()"
   ]
  },
  {
   "cell_type": "code",
   "execution_count": 796,
   "metadata": {},
   "outputs": [],
   "source": [
    "def model(t_u, w2, w1, b):\n",
    "    return w2 * t_u ** 2 + w1 * t_u + b"
   ]
  },
  {
   "cell_type": "code",
   "execution_count": 797,
   "metadata": {},
   "outputs": [],
   "source": [
    "def linear_model(t_u, w1, b):\n",
    "    return w1 * t_u + b"
   ]
  },
  {
   "cell_type": "code",
   "execution_count": 798,
   "metadata": {},
   "outputs": [],
   "source": [
    "def training_loop(num_epochs, optimizer, params: torch.Tensor, t_u, t_c, linear: bool = False):\n",
    "    for epoch in range(1, num_epochs+1):\n",
    "        if params.grad is not None:\n",
    "            params.grad.zero_()\n",
    "        \n",
    "        if not linear:\n",
    "            t_p = model(t_u, *params)\n",
    "        else:\n",
    "            t_p = linear_model(t_u, *params)\n",
    "        loss = loss_fn(t_p, t_c)\n",
    "\n",
    "        optimizer.zero_grad()\n",
    "        loss.backward()\n",
    "        optimizer.step()\n",
    "\n",
    "        if epoch % 500 == 0:\n",
    "            print(f\"Epoch {epoch} Loss: {float(loss)}\")\n",
    "\n",
    "    return params"
   ]
  },
  {
   "cell_type": "code",
   "execution_count": 799,
   "metadata": {},
   "outputs": [],
   "source": [
    "t_c = [0.5, 14.0, 15.0, 28.0, 11.0, 8.0, 3.0, -4.0, 6.0, 13.0, 21.0] \n",
    "t_u = [35.7, 55.9, 58.2, 81.9, 56.3, 48.9, 33.9, 21.8, 48.4, 60.4, 68.4]\n",
    "t_c = torch.tensor(t_c)\n",
    "t_u = torch.tensor(t_u)\n",
    "t_un = (t_u - t_u.min()) / (t_u.max() - t_u.min())"
   ]
  },
  {
   "cell_type": "markdown",
   "metadata": {},
   "source": [
    "## ADAM Optimizer"
   ]
  },
  {
   "cell_type": "markdown",
   "metadata": {},
   "source": [
    "### 0.1 Learning Rate"
   ]
  },
  {
   "cell_type": "code",
   "execution_count": 800,
   "metadata": {},
   "outputs": [
    {
     "name": "stdout",
     "output_type": "stream",
     "text": [
      "Epoch 500 Loss: 2.751105546951294\n",
      "Epoch 1000 Loss: 2.3994340896606445\n",
      "Epoch 1500 Loss: 2.263638734817505\n",
      "Epoch 2000 Loss: 2.168210983276367\n",
      "Epoch 2500 Loss: 2.1171624660491943\n"
     ]
    },
    {
     "name": "stdout",
     "output_type": "stream",
     "text": [
      "Epoch 3000 Loss: 2.0971312522888184\n",
      "Epoch 3500 Loss: 2.091726303100586\n",
      "Epoch 4000 Loss: 2.0908114910125732\n",
      "Epoch 4500 Loss: 2.0907235145568848\n",
      "Epoch 5000 Loss: 2.0907206535339355\n"
     ]
    },
    {
     "data": {
      "text/plain": [
       "tensor([10.2264, 22.2948, -3.9061], requires_grad=True)"
      ]
     },
     "execution_count": 800,
     "metadata": {},
     "output_type": "execute_result"
    }
   ],
   "source": [
    "params = torch.tensor([1.0, 1.0, 0.0], requires_grad=True)\n",
    "optimizer = optim.Adam([params], 0.1)\n",
    "best_params = training_loop(5000, optimizer, params=params, t_u=t_un, t_c=t_c)\n",
    "best_params"
   ]
  },
  {
   "cell_type": "markdown",
   "metadata": {},
   "source": [
    "### 0.01 Learning Rate"
   ]
  },
  {
   "cell_type": "code",
   "execution_count": 801,
   "metadata": {},
   "outputs": [
    {
     "name": "stdout",
     "output_type": "stream",
     "text": [
      "Epoch 500 Loss: 43.87403106689453\n",
      "Epoch 1000 Loss: 23.40558433532715\n",
      "Epoch 1500 Loss: 16.16440773010254\n",
      "Epoch 2000 Loss: 10.451733589172363\n",
      "Epoch 2500 Loss: 6.443504333496094\n",
      "Epoch 3000 Loss: 4.107592582702637\n",
      "Epoch 3500 Loss: 3.0116372108459473\n",
      "Epoch 4000 Loss: 2.6113815307617188\n",
      "Epoch 4500 Loss: 2.4906833171844482\n",
      "Epoch 5000 Loss: 2.4417731761932373\n"
     ]
    },
    {
     "data": {
      "text/plain": [
       "tensor([16.6260, 15.4963, -2.5505], requires_grad=True)"
      ]
     },
     "execution_count": 801,
     "metadata": {},
     "output_type": "execute_result"
    }
   ],
   "source": [
    "params = torch.tensor([1.0, 1.0, 0.0], requires_grad=True)\n",
    "optimizer = optim.Adam([params], 0.01)\n",
    "training_loop(5000, optimizer, params=params, t_u=t_un, t_c=t_c)"
   ]
  },
  {
   "cell_type": "markdown",
   "metadata": {},
   "source": [
    "### 0.001 Learning Rate"
   ]
  },
  {
   "cell_type": "code",
   "execution_count": 802,
   "metadata": {},
   "outputs": [
    {
     "name": "stdout",
     "output_type": "stream",
     "text": [
      "Epoch 500 Loss: 141.23663330078125\n",
      "Epoch 1000 Loss: 122.945556640625\n",
      "Epoch 1500 Loss: 106.80143737792969\n",
      "Epoch 2000 Loss: 92.5957260131836\n",
      "Epoch 2500 Loss: 80.15706634521484\n",
      "Epoch 3000 Loss: 69.34261322021484\n",
      "Epoch 3500 Loss: 60.029788970947266\n",
      "Epoch 4000 Loss: 52.10824203491211\n",
      "Epoch 4500 Loss: 45.47208786010742\n",
      "Epoch 5000 Loss: 40.012351989746094\n"
     ]
    },
    {
     "data": {
      "text/plain": [
       "tensor([5.4156, 5.3362, 4.0237], requires_grad=True)"
      ]
     },
     "execution_count": 802,
     "metadata": {},
     "output_type": "execute_result"
    }
   ],
   "source": [
    "params = torch.tensor([1.0, 1.0, 0.0], requires_grad=True)\n",
    "optimizer = optim.Adam([params], 0.001)\n",
    "training_loop(5000, optimizer, params=params, t_u=t_un, t_c=t_c)"
   ]
  },
  {
   "cell_type": "markdown",
   "metadata": {},
   "source": [
    "### 0.0001 Learning Rate"
   ]
  },
  {
   "cell_type": "code",
   "execution_count": 803,
   "metadata": {},
   "outputs": [
    {
     "name": "stdout",
     "output_type": "stream",
     "text": [
      "Epoch 500 Loss: 159.7061767578125\n",
      "Epoch 1000 Loss: 157.54910278320312\n",
      "Epoch 1500 Loss: 155.41587829589844\n",
      "Epoch 2000 Loss: 153.30519104003906\n",
      "Epoch 2500 Loss: 151.21585083007812\n",
      "Epoch 3000 Loss: 149.14695739746094\n",
      "Epoch 3500 Loss: 147.09756469726562\n",
      "Epoch 4000 Loss: 145.06761169433594\n",
      "Epoch 4500 Loss: 143.05577087402344\n",
      "Epoch 5000 Loss: 141.06312561035156\n"
     ]
    },
    {
     "data": {
      "text/plain": [
       "tensor([1.4953, 1.4948, 0.4935], requires_grad=True)"
      ]
     },
     "execution_count": 803,
     "metadata": {},
     "output_type": "execute_result"
    }
   ],
   "source": [
    "params = torch.tensor([1.0, 1.0, 0.0], requires_grad=True)\n",
    "optimizer = optim.Adam([params], 0.0001)\n",
    "training_loop(5000, optimizer, params=params, t_u=t_un, t_c=t_c)"
   ]
  },
  {
   "cell_type": "markdown",
   "metadata": {},
   "source": [
    "## SGD Optimizer"
   ]
  },
  {
   "cell_type": "markdown",
   "metadata": {},
   "source": [
    "### 0.1 Learning Rate"
   ]
  },
  {
   "cell_type": "code",
   "execution_count": 804,
   "metadata": {},
   "outputs": [
    {
     "name": "stdout",
     "output_type": "stream",
     "text": [
      "Epoch 500 Loss: 2.2482290267944336\n",
      "Epoch 1000 Loss: 2.1626265048980713\n",
      "Epoch 1500 Loss: 2.1235475540161133\n",
      "Epoch 2000 Loss: 2.105706214904785\n",
      "Epoch 2500 Loss: 2.097562074661255\n",
      "Epoch 3000 Loss: 2.093844413757324\n",
      "Epoch 3500 Loss: 2.092146158218384\n",
      "Epoch 4000 Loss: 2.091371774673462\n",
      "Epoch 4500 Loss: 2.091017484664917\n",
      "Epoch 5000 Loss: 2.090855836868286\n"
     ]
    },
    {
     "data": {
      "text/plain": [
       "tensor([10.3515, 22.1651, -3.8814], requires_grad=True)"
      ]
     },
     "execution_count": 804,
     "metadata": {},
     "output_type": "execute_result"
    }
   ],
   "source": [
    "params = torch.tensor([1.0, 1.0, 0.0], requires_grad=True)\n",
    "optimizer = optim.SGD([params], 0.1)\n",
    "training_loop(5000, optimizer, params=params, t_u=t_un, t_c=t_c)"
   ]
  },
  {
   "cell_type": "markdown",
   "metadata": {},
   "source": [
    "### 0.01 Learning Rate"
   ]
  },
  {
   "cell_type": "code",
   "execution_count": 805,
   "metadata": {},
   "outputs": [
    {
     "name": "stdout",
     "output_type": "stream",
     "text": [
      "Epoch 500 Loss: 7.31503438949585\n",
      "Epoch 1000 Loss: 2.9870688915252686\n",
      "Epoch 1500 Loss: 2.436879873275757\n",
      "Epoch 2000 Loss: 2.351578712463379\n",
      "Epoch 2500 Loss: 2.3246498107910156\n",
      "Epoch 3000 Loss: 2.3061230182647705\n",
      "Epoch 3500 Loss: 2.2897753715515137\n",
      "Epoch 4000 Loss: 2.2747533321380615\n",
      "Epoch 4500 Loss: 2.2608797550201416\n",
      "Epoch 5000 Loss: 2.248051404953003\n"
     ]
    },
    {
     "data": {
      "text/plain": [
       "tensor([14.5804, 17.7796, -3.0443], requires_grad=True)"
      ]
     },
     "execution_count": 805,
     "metadata": {},
     "output_type": "execute_result"
    }
   ],
   "source": [
    "params = torch.tensor([1.0, 1.0, 0.0], requires_grad=True)\n",
    "optimizer = optim.SGD([params], 0.01)\n",
    "training_loop(5000, optimizer, params=params, t_u=t_un, t_c=t_c)"
   ]
  },
  {
   "cell_type": "markdown",
   "metadata": {},
   "source": [
    "### 0.001 Learning Rate"
   ]
  },
  {
   "cell_type": "code",
   "execution_count": 806,
   "metadata": {},
   "outputs": [
    {
     "name": "stdout",
     "output_type": "stream",
     "text": [
      "Epoch 500 Loss: 42.169071197509766\n",
      "Epoch 1000 Loss: 29.084794998168945\n",
      "Epoch 1500 Loss: 23.6975154876709\n",
      "Epoch 2000 Loss: 19.651195526123047\n",
      "Epoch 2500 Loss: 16.389543533325195\n",
      "Epoch 3000 Loss: 13.745458602905273\n",
      "Epoch 3500 Loss: 11.601007461547852\n",
      "Epoch 4000 Loss: 9.861629486083984\n",
      "Epoch 4500 Loss: 8.450728416442871\n",
      "Epoch 5000 Loss: 7.306186199188232\n"
     ]
    },
    {
     "data": {
      "text/plain": [
       "tensor([11.9285, 12.2284,  0.9594], requires_grad=True)"
      ]
     },
     "execution_count": 806,
     "metadata": {},
     "output_type": "execute_result"
    }
   ],
   "source": [
    "params = torch.tensor([1.0, 1.0, 0.0], requires_grad=True)\n",
    "optimizer = optim.SGD([params], 0.001)\n",
    "training_loop(5000, optimizer, params=params, t_u=t_un, t_c=t_c)"
   ]
  },
  {
   "cell_type": "markdown",
   "metadata": {},
   "source": [
    "### 0.0001 Learning Rate"
   ]
  },
  {
   "cell_type": "code",
   "execution_count": 807,
   "metadata": {},
   "outputs": [
    {
     "name": "stdout",
     "output_type": "stream",
     "text": [
      "Epoch 500 Loss: 132.0695343017578\n",
      "Epoch 1000 Loss: 109.2575454711914\n",
      "Epoch 1500 Loss: 91.80365753173828\n",
      "Epoch 2000 Loss: 78.41097259521484\n",
      "Epoch 2500 Loss: 68.09719848632812\n",
      "Epoch 3000 Loss: 60.11845397949219\n",
      "Epoch 3500 Loss: 53.911415100097656\n",
      "Epoch 4000 Loss: 49.04937744140625\n",
      "Epoch 4500 Loss: 45.209232330322266\n",
      "Epoch 5000 Loss: 42.146183013916016\n"
     ]
    },
    {
     "data": {
      "text/plain": [
       "tensor([4.3909, 5.2344, 4.7822], requires_grad=True)"
      ]
     },
     "execution_count": 807,
     "metadata": {},
     "output_type": "execute_result"
    }
   ],
   "source": [
    "params = torch.tensor([1.0, 1.0, 0.0], requires_grad=True)\n",
    "optimizer = optim.SGD([params], 0.0001)\n",
    "training_loop(5000, optimizer, params=params, t_u=t_un, t_c=t_c)"
   ]
  },
  {
   "cell_type": "markdown",
   "metadata": {},
   "source": [
    "## Linear vs. Nonlinear"
   ]
  },
  {
   "cell_type": "markdown",
   "metadata": {},
   "source": [
    "## ADAM Optimizer"
   ]
  },
  {
   "cell_type": "code",
   "execution_count": 808,
   "metadata": {},
   "outputs": [
    {
     "name": "stdout",
     "output_type": "stream",
     "text": [
      "Epoch 500 Loss: 9.509765625\n",
      "Epoch 1000 Loss: 3.051999807357788\n",
      "Epoch 1500 Loss: 2.927941083908081\n",
      "Epoch 2000 Loss: 2.927644968032837\n",
      "Epoch 2500 Loss: 2.9276463985443115\n",
      "Epoch 3000 Loss: 2.9276459217071533\n",
      "Epoch 3500 Loss: 2.9276459217071533\n",
      "Epoch 4000 Loss: 2.9276459217071533\n",
      "Epoch 4500 Loss: 2.927645206451416\n",
      "Epoch 5000 Loss: 2.927645683288574\n"
     ]
    },
    {
     "data": {
      "text/plain": [
       "tensor([32.2600, -5.6031], requires_grad=True)"
      ]
     },
     "execution_count": 808,
     "metadata": {},
     "output_type": "execute_result"
    }
   ],
   "source": [
    "lin_params = torch.tensor([1.0, 0.0], requires_grad=True)\n",
    "optimizer = optim.Adam([lin_params], 0.1)\n",
    "linear_params = training_loop(5000, optimizer, lin_params, t_u=t_un, t_c=t_c, linear=True)\n",
    "linear_params"
   ]
  },
  {
   "cell_type": "markdown",
   "metadata": {},
   "source": [
    "## SGD Optimizer"
   ]
  },
  {
   "cell_type": "code",
   "execution_count": 809,
   "metadata": {},
   "outputs": [
    {
     "name": "stdout",
     "output_type": "stream",
     "text": [
      "Epoch 500 Loss: 19.66142463684082\n",
      "Epoch 1000 Loss: 8.339456558227539\n",
      "Epoch 1500 Loss: 4.677872180938721\n",
      "Epoch 2000 Loss: 3.4936881065368652\n",
      "Epoch 2500 Loss: 3.110708475112915\n",
      "Epoch 3000 Loss: 2.986849308013916\n",
      "Epoch 3500 Loss: 2.9467933177948\n",
      "Epoch 4000 Loss: 2.9338371753692627\n",
      "Epoch 4500 Loss: 2.929647922515869\n",
      "Epoch 5000 Loss: 2.9282941818237305\n"
     ]
    },
    {
     "data": {
      "text/plain": [
       "tensor([32.1654, -5.5531], requires_grad=True)"
      ]
     },
     "execution_count": 809,
     "metadata": {},
     "output_type": "execute_result"
    }
   ],
   "source": [
    "lin_params = torch.tensor([1.0, 0.0], requires_grad=True)\n",
    "optimizer = optim.SGD([lin_params], 0.01)\n",
    "training_loop(5000, optimizer, lin_params, t_u=t_un, t_c=t_c, linear=True)"
   ]
  },
  {
   "cell_type": "code",
   "execution_count": 810,
   "metadata": {},
   "outputs": [
    {
     "data": {
      "image/png": "[encoded data removed]",
      "text/plain": [
       "<Figure size 640x480 with 1 Axes>"
      ]
     },
     "metadata": {},
     "output_type": "display_data"
    }
   ],
   "source": [
    "x_vals = np.linspace(t_un.min(), t_un.max(), 1000)\n",
    "\n",
    "linear_predictions = linear_model(x_vals, float(linear_params[0]), float(linear_params[1]))\n",
    "nonlinear_predictions = model(x_vals, float(best_params[0]), float(best_params[1]), float(best_params[2]))\n",
    "\n",
    "# Assuming x_vals is adjusted for normalization\n",
    "plt.plot(x_vals, linear_predictions, label='Linear Predictions')\n",
    "plt.plot(x_vals, nonlinear_predictions, label='Nonlinear Predictions')\n",
    "plt.scatter(t_un, t_c, label='Actual Data', color='red')\n",
    "\n",
    "# Add titles and legends\n",
    "plt.title('Temperature Predictions vs. Actual Data')\n",
    "plt.xlabel('X Values (Normalized)')\n",
    "plt.ylabel('Y Values')\n",
    "plt.legend()\n",
    "\n",
    "plt.show()"
   ]
  },
  {
   "cell_type": "markdown",
   "metadata": {},
   "source": [
    "The models above have the following (best case) losses:\n",
    "- Nonlinear (ADAM): 2.0907\n",
    "- Nonlinear (SGD): 2.0908\n",
    "- Linear (ADAM): 2.9276\n",
    "- Linear (SGD): 2.9283\n",
    "\n",
    "This shows numerically how the nonlinear model fits the data better. The model also visually fits the data better.\n",
    "\n",
    "Comparing the ADAM and the SGD optimizers, the SGD looks like it handles a larger learning rate better than a smaller one like ADAM, but performs a little worse."
   ]
  },
  {
   "cell_type": "markdown",
   "metadata": {},
   "source": [
    "# Problem 2"
   ]
  },
  {
   "cell_type": "code",
   "execution_count": 811,
   "metadata": {},
   "outputs": [],
   "source": [
    "def linear_model(t_in, weights, bias):\n",
    "    return torch.matmul(t_in, weights.double()) + bias"
   ]
  },
  {
   "cell_type": "code",
   "execution_count": 812,
   "metadata": {},
   "outputs": [],
   "source": [
    "def training_loop(num_epochs, optimizer, params: torch.Tensor, t_in, t_out, v_in, v_out):\n",
    "    for epoch in range(1, num_epochs+1):\n",
    "        if params.grad is not None:\n",
    "            params.grad.zero_()\n",
    "        \n",
    "        t_p = linear_model(t_in, params[:-1], params[-1])\n",
    "        train_loss = loss_fn(t_p, t_out)\n",
    "        \n",
    "\n",
    "        optimizer.zero_grad()\n",
    "        train_loss.backward()\n",
    "        optimizer.step()\n",
    "\n",
    "        if epoch % 500 == 0:\n",
    "            v_p = linear_model(v_in, params[:-1], params[-1])\n",
    "            valid_loss = loss_fn(v_p, v_out)\n",
    "            print(f\"Epoch {epoch}:\")\n",
    "            print(f\"\\tTraining Loss: {float(train_loss)}\")\n",
    "            print(f\"\\tValidation Loss: {float(valid_loss)}\")\n",
    "\n",
    "    return params"
   ]
  },
  {
   "cell_type": "code",
   "execution_count": 813,
   "metadata": {},
   "outputs": [],
   "source": [
    "def prep_data() -> pd.DataFrame:\n",
    "    df = pd.read_csv(\"Housing.csv\")\n",
    "\n",
    "    df['mainroad'] = df['mainroad'].apply(lambda x: 1 if x == 'yes' else 0)\n",
    "    df['guestroom'] = df['guestroom'].apply(lambda x: 1 if x == 'yes' else 0)\n",
    "    df['basement'] = df['basement'].apply(lambda x: 1 if x == 'yes' else 0)\n",
    "    df['hotwaterheating'] = df['hotwaterheating'].apply(lambda x: 1 if x == 'yes' else 0)\n",
    "    df['airconditioning'] = df['airconditioning'].apply(lambda x: 1 if x == 'yes' else 0)\n",
    "    df['prefarea'] = df['prefarea'].apply(lambda x: 1 if x == 'yes' else 0)\n",
    "    df['furnishingstatus'] = df['furnishingstatus'].apply(lambda x: 2 if x == 'furnished' else 0)\n",
    "\n",
    "    return df"
   ]
  },
  {
   "cell_type": "code",
   "execution_count": 814,
   "metadata": {},
   "outputs": [
    {
     "data": {
      "text/html": [
       "<div>\n",
       "<style scoped>\n",
       "    .dataframe tbody tr th:only-of-type {\n",
       "        vertical-align: middle;\n",
       "    }\n",
       "\n",
       "    .dataframe tbody tr th {\n",
       "        vertical-align: top;\n",
       "    }\n",
       "\n",
       "    .dataframe thead th {\n",
       "        text-align: right;\n",
       "    }\n",
       "</style>\n",
       "<table border=\"1\" class=\"dataframe\">\n",
       "  <thead>\n",
       "    <tr style=\"text-align: right;\">\n",
       "      <th></th>\n",
       "      <th>area</th>\n",
       "      <th>bedrooms</th>\n",
       "      <th>bathrooms</th>\n",
       "      <th>stories</th>\n",
       "      <th>parking</th>\n",
       "    </tr>\n",
       "  </thead>\n",
       "  <tbody>\n",
       "    <tr>\n",
       "      <th>0</th>\n",
       "      <td>7420</td>\n",
       "      <td>4</td>\n",
       "      <td>2</td>\n",
       "      <td>3</td>\n",
       "      <td>2</td>\n",
       "    </tr>\n",
       "    <tr>\n",
       "      <th>1</th>\n",
       "      <td>8960</td>\n",
       "      <td>4</td>\n",
       "      <td>4</td>\n",
       "      <td>4</td>\n",
       "      <td>3</td>\n",
       "    </tr>\n",
       "    <tr>\n",
       "      <th>2</th>\n",
       "      <td>9960</td>\n",
       "      <td>3</td>\n",
       "      <td>2</td>\n",
       "      <td>2</td>\n",
       "      <td>2</td>\n",
       "    </tr>\n",
       "    <tr>\n",
       "      <th>3</th>\n",
       "      <td>7500</td>\n",
       "      <td>4</td>\n",
       "      <td>2</td>\n",
       "      <td>2</td>\n",
       "      <td>3</td>\n",
       "    </tr>\n",
       "    <tr>\n",
       "      <th>4</th>\n",
       "      <td>7420</td>\n",
       "      <td>4</td>\n",
       "      <td>1</td>\n",
       "      <td>2</td>\n",
       "      <td>2</td>\n",
       "    </tr>\n",
       "  </tbody>\n",
       "</table>\n",
       "</div>"
      ],
      "text/plain": [
       "   area  bedrooms  bathrooms  stories  parking\n",
       "0  7420         4          2        3        2\n",
       "1  8960         4          4        4        3\n",
       "2  9960         3          2        2        2\n",
       "3  7500         4          2        2        3\n",
       "4  7420         4          1        2        2"
      ]
     },
     "execution_count": 814,
     "metadata": {},
     "output_type": "execute_result"
    }
   ],
   "source": [
    "og_df = prep_data()\n",
    "# area, bedrooms, bathrooms, stories, parking\n",
    "price = og_df.pop('price').to_numpy()\n",
    "df = og_df[['area', 'bedrooms', 'bathrooms', 'stories', 'parking']]\n",
    "df.head()"
   ]
  },
  {
   "cell_type": "code",
   "execution_count": 815,
   "metadata": {},
   "outputs": [],
   "source": [
    "scaler_x = StandardScaler()\n",
    "data = scaler_x.fit_transform(df)\n",
    "\n",
    "X_train, X_test, Y_train, Y_test = train_test_split(data, price, test_size=0.2, random_state=15)\n",
    "\n",
    "train_inputs = torch.tensor(X_train)\n",
    "train_outputs = torch.tensor(Y_train)\n",
    "Y_test = torch.tensor(Y_test)\n",
    "X_test = torch.tensor(X_test)"
   ]
  },
  {
   "cell_type": "markdown",
   "metadata": {},
   "source": [
    "## ADAM Optimizer"
   ]
  },
  {
   "cell_type": "markdown",
   "metadata": {},
   "source": [
    "### 0.1 Learning Rate"
   ]
  },
  {
   "cell_type": "code",
   "execution_count": 816,
   "metadata": {},
   "outputs": [
    {
     "name": "stdout",
     "output_type": "stream",
     "text": [
      "Epoch 500:\n",
      "\tTraining Loss: 25922038059221.56\n",
      "\tValidation Loss: 27376514717869.215\n"
     ]
    },
    {
     "name": "stdout",
     "output_type": "stream",
     "text": [
      "Epoch 1000:\n",
      "\tTraining Loss: 25921145965231.312\n",
      "\tValidation Loss: 27375621239662.55\n",
      "Epoch 1500:\n",
      "\tTraining Loss: 25920253913132.258\n",
      "\tValidation Loss: 27374727807284.727\n",
      "Epoch 2000:\n",
      "\tTraining Loss: 25919361967566.91\n",
      "\tValidation Loss: 27373834485028.105\n",
      "Epoch 2500:\n",
      "\tTraining Loss: 25918470114945.273\n",
      "\tValidation Loss: 27372941264065.88\n",
      "Epoch 3000:\n",
      "\tTraining Loss: 25917578267681.11\n",
      "\tValidation Loss: 27372048048916.305\n",
      "Epoch 3500:\n",
      "\tTraining Loss: 25916686464661.742\n",
      "\tValidation Loss: 27371154882178.035\n",
      "Epoch 4000:\n",
      "\tTraining Loss: 25915794713223.87\n",
      "\tValidation Loss: 27370261771682.12\n",
      "Epoch 4500:\n",
      "\tTraining Loss: 25914903013367.496\n",
      "\tValidation Loss: 27369368717428.56\n",
      "Epoch 5000:\n",
      "\tTraining Loss: 25914011365092.613\n",
      "\tValidation Loss: 27368475719417.35\n"
     ]
    },
    {
     "data": {
      "text/plain": [
       "tensor([500.9217, 500.9103, 500.9128, 500.9115, 500.9130, 500.0050],\n",
       "       requires_grad=True)"
      ]
     },
     "execution_count": 816,
     "metadata": {},
     "output_type": "execute_result"
    }
   ],
   "source": [
    "params = torch.tensor([1.0, 1.0, 1.0, 1.0, 1.0, 0.0], requires_grad=True)\n",
    "optimizer = optim.Adam([params], 0.1)\n",
    "housing_lin_params = training_loop(5000, optimizer, params, t_in=train_inputs, t_out=train_outputs, v_in=X_test, v_out=Y_test)\n",
    "housing_lin_params"
   ]
  },
  {
   "cell_type": "markdown",
   "metadata": {},
   "source": [
    "### 0.01 Learning Rate"
   ]
  },
  {
   "cell_type": "code",
   "execution_count": 817,
   "metadata": {},
   "outputs": [
    {
     "name": "stdout",
     "output_type": "stream",
     "text": [
      "Epoch 500:\n",
      "\tTraining Loss: 25922839404500.293\n",
      "\tValidation Loss: 27377318918502.09\n",
      "Epoch 1000:\n",
      "\tTraining Loss: 25922750182905.18\n",
      "\tValidation Loss: 27377229557848.98\n",
      "Epoch 1500:\n",
      "\tTraining Loss: 25922660961025.285\n",
      "\tValidation Loss: 27377140196988.28\n",
      "Epoch 2000:\n",
      "\tTraining Loss: 25922571739669.418\n",
      "\tValidation Loss: 27377050836682.504\n",
      "Epoch 2500:\n",
      "\tTraining Loss: 25922482518821.637\n",
      "\tValidation Loss: 27376961476939.42\n",
      "Epoch 3000:\n",
      "\tTraining Loss: 25922393298489.918\n",
      "\tValidation Loss: 27376872117759.035\n",
      "Epoch 3500:\n",
      "\tTraining Loss: 25922304090443.97\n",
      "\tValidation Loss: 27376782770923.37\n",
      "Epoch 4000:\n",
      "\tTraining Loss: 25922214888161.082\n",
      "\tValidation Loss: 27376693429911.55\n",
      "Epoch 4500:\n",
      "\tTraining Loss: 25922125686394.06\n",
      "\tValidation Loss: 27376604089462.215\n",
      "Epoch 5000:\n",
      "\tTraining Loss: 25922036485142.895\n",
      "\tValidation Loss: 27376514749575.36\n"
     ]
    },
    {
     "data": {
      "text/plain": [
       "tensor([50.9973, 50.9973, 50.9973, 50.9973, 50.9973, 49.9976],\n",
       "       requires_grad=True)"
      ]
     },
     "execution_count": 817,
     "metadata": {},
     "output_type": "execute_result"
    }
   ],
   "source": [
    "params = torch.tensor([1.0, 1.0, 1.0, 1.0, 1.0, 0.0], requires_grad=True)\n",
    "optimizer = optim.Adam([params], 0.01)\n",
    "training_loop(5000, optimizer, params, t_in=train_inputs, t_out=train_outputs, v_in=X_test, v_out=Y_test)"
   ]
  },
  {
   "cell_type": "markdown",
   "metadata": {},
   "source": [
    "### 0.001 Learning Rate"
   ]
  },
  {
   "cell_type": "code",
   "execution_count": 818,
   "metadata": {},
   "outputs": [
    {
     "name": "stdout",
     "output_type": "stream",
     "text": [
      "Epoch 500:\n",
      "\tTraining Loss: 25922919542237.105\n",
      "\tValidation Loss: 27377399342025.26\n",
      "Epoch 1000:\n",
      "\tTraining Loss: 25922910619997.715\n",
      "\tValidation Loss: 27377390405882.32\n",
      "Epoch 1500:\n",
      "\tTraining Loss: 25922901697978.598\n",
      "\tValidation Loss: 27377381469942.12\n",
      "Epoch 2000:\n",
      "\tTraining Loss: 25922892775965.074\n",
      "\tValidation Loss: 27377372534007.53\n",
      "Epoch 2500:\n",
      "\tTraining Loss: 25922883854521.13\n",
      "\tValidation Loss: 27377363598657.535\n",
      "Epoch 3000:\n",
      "\tTraining Loss: 25922874933083.477\n",
      "\tValidation Loss: 27377354663313.164\n",
      "Epoch 3500:\n",
      "\tTraining Loss: 25922866011650.992\n",
      "\tValidation Loss: 27377345727974.42\n",
      "Epoch 4000:\n",
      "\tTraining Loss: 25922857090223.656\n",
      "\tValidation Loss: 27377336792641.305\n",
      "Epoch 4500:\n",
      "\tTraining Loss: 25922848168799.22\n",
      "\tValidation Loss: 27377327857311.496\n",
      "Epoch 5000:\n",
      "\tTraining Loss: 25922839247382.207\n",
      "\tValidation Loss: 27377318921989.63\n"
     ]
    },
    {
     "data": {
      "text/plain": [
       "tensor([5.9998, 5.9998, 5.9998, 5.9998, 5.9998, 4.9998], requires_grad=True)"
      ]
     },
     "execution_count": 818,
     "metadata": {},
     "output_type": "execute_result"
    }
   ],
   "source": [
    "params = torch.tensor([1.0, 1.0, 1.0, 1.0, 1.0, 0.0], requires_grad=True)\n",
    "optimizer = optim.Adam([params], 0.001)\n",
    "training_loop(5000, optimizer, params, t_in=train_inputs, t_out=train_outputs, v_in=X_test, v_out=Y_test)"
   ]
  },
  {
   "cell_type": "markdown",
   "metadata": {},
   "source": [
    "### 0.0001 Learning Rate"
   ]
  },
  {
   "cell_type": "code",
   "execution_count": 819,
   "metadata": {},
   "outputs": [
    {
     "name": "stdout",
     "output_type": "stream",
     "text": [
      "Epoch 500:\n",
      "\tTraining Loss: 25922919542237.105\n",
      "\tValidation Loss: 27377399342025.26\n",
      "Epoch 1000:\n",
      "\tTraining Loss: 25922910619997.715\n",
      "\tValidation Loss: 27377390405882.32\n",
      "Epoch 1500:\n",
      "\tTraining Loss: 25922901697978.598\n",
      "\tValidation Loss: 27377381469942.12\n",
      "Epoch 2000:\n",
      "\tTraining Loss: 25922892775965.074\n",
      "\tValidation Loss: 27377372534007.53\n",
      "Epoch 2500:\n",
      "\tTraining Loss: 25922883854521.13\n",
      "\tValidation Loss: 27377363598657.535\n",
      "Epoch 3000:\n",
      "\tTraining Loss: 25922874933083.477\n",
      "\tValidation Loss: 27377354663313.164\n",
      "Epoch 3500:\n",
      "\tTraining Loss: 25922866011650.992\n",
      "\tValidation Loss: 27377345727974.42\n",
      "Epoch 4000:\n",
      "\tTraining Loss: 25922857090223.656\n",
      "\tValidation Loss: 27377336792641.305\n",
      "Epoch 4500:\n",
      "\tTraining Loss: 25922848168799.22\n",
      "\tValidation Loss: 27377327857311.496\n",
      "Epoch 5000:\n",
      "\tTraining Loss: 25922839247382.207\n",
      "\tValidation Loss: 27377318921989.63\n"
     ]
    },
    {
     "data": {
      "text/plain": [
       "tensor([5.9998, 5.9998, 5.9998, 5.9998, 5.9998, 4.9998], requires_grad=True)"
      ]
     },
     "execution_count": 819,
     "metadata": {},
     "output_type": "execute_result"
    }
   ],
   "source": [
    "params = torch.tensor([1.0, 1.0, 1.0, 1.0, 1.0, 0.0], requires_grad=True)\n",
    "optimizer = optim.Adam([params], 0.001)\n",
    "training_loop(5000, optimizer, params, t_in=train_inputs, t_out=train_outputs, v_in=X_test, v_out=Y_test)"
   ]
  },
  {
   "cell_type": "markdown",
   "metadata": {},
   "source": [
    "## SGD Optimizer"
   ]
  },
  {
   "cell_type": "markdown",
   "metadata": {},
   "source": [
    "### 0.1 Learning Rate"
   ]
  },
  {
   "cell_type": "code",
   "execution_count": 820,
   "metadata": {},
   "outputs": [
    {
     "name": "stdout",
     "output_type": "stream",
     "text": [
      "Epoch 500:\n",
      "\tTraining Loss: 1507382604577.2354\n",
      "\tValidation Loss: 1662434492724.132\n",
      "Epoch 1000:\n",
      "\tTraining Loss: 1507382604577.2354\n",
      "\tValidation Loss: 1662434492724.132\n",
      "Epoch 1500:\n",
      "\tTraining Loss: 1507382604577.2354\n",
      "\tValidation Loss: 1662434492724.132\n",
      "Epoch 2000:\n",
      "\tTraining Loss: 1507382604577.2354\n",
      "\tValidation Loss: 1662434492724.132\n",
      "Epoch 2500:\n",
      "\tTraining Loss: 1507382604577.2354\n",
      "\tValidation Loss: 1662434492724.132\n",
      "Epoch 3000:\n",
      "\tTraining Loss: 1507382604577.2354\n",
      "\tValidation Loss: 1662434492724.132\n",
      "Epoch 3500:\n",
      "\tTraining Loss: 1507382604577.2354\n",
      "\tValidation Loss: 1662434492724.132\n",
      "Epoch 4000:\n",
      "\tTraining Loss: 1507382604577.2354\n",
      "\tValidation Loss: 1662434492724.132\n",
      "Epoch 4500:\n",
      "\tTraining Loss: 1507382604577.2354\n",
      "\tValidation Loss: 1662434492724.132\n",
      "Epoch 5000:\n",
      "\tTraining Loss: 1507382604577.2354\n",
      "\tValidation Loss: 1662434492724.132\n"
     ]
    },
    {
     "data": {
      "text/plain": [
       "tensor([ 766161.7500,  128552.7109,  505373.0938,  518739.1562,  283620.4062,\n",
       "        4740832.0000], requires_grad=True)"
      ]
     },
     "execution_count": 820,
     "metadata": {},
     "output_type": "execute_result"
    }
   ],
   "source": [
    "params = torch.tensor([1.0, 1.0, 1.0, 1.0, 1.0, 0.0], requires_grad=True)\n",
    "optimizer = optim.SGD([params], 0.1)\n",
    "training_loop(5000, optimizer, params, t_in=train_inputs, t_out=train_outputs, v_in=X_test, v_out=Y_test)"
   ]
  },
  {
   "cell_type": "markdown",
   "metadata": {},
   "source": [
    "### 0.01 Learning Rate"
   ]
  },
  {
   "cell_type": "code",
   "execution_count": 821,
   "metadata": {},
   "outputs": [
    {
     "name": "stdout",
     "output_type": "stream",
     "text": [
      "Epoch 500:\n",
      "\tTraining Loss: 1507386215444.318\n",
      "\tValidation Loss: 1662248158546.9\n",
      "Epoch 1000:\n",
      "\tTraining Loss: 1507382604776.3484\n",
      "\tValidation Loss: 1662436266422.8076\n",
      "Epoch 1500:\n",
      "\tTraining Loss: 1507382604729.9468\n",
      "\tValidation Loss: 1662436580651.684\n",
      "Epoch 2000:\n",
      "\tTraining Loss: 1507382604729.9468\n",
      "\tValidation Loss: 1662436580651.684\n",
      "Epoch 2500:\n",
      "\tTraining Loss: 1507382604729.9468\n",
      "\tValidation Loss: 1662436580651.684\n",
      "Epoch 3000:\n",
      "\tTraining Loss: 1507382604729.9468\n",
      "\tValidation Loss: 1662436580651.684\n",
      "Epoch 3500:\n",
      "\tTraining Loss: 1507382604729.9468\n",
      "\tValidation Loss: 1662436580651.684\n",
      "Epoch 4000:\n",
      "\tTraining Loss: 1507382604729.9468\n",
      "\tValidation Loss: 1662436580651.684\n",
      "Epoch 4500:\n",
      "\tTraining Loss: 1507382604729.9468\n",
      "\tValidation Loss: 1662436580651.684\n",
      "Epoch 5000:\n",
      "\tTraining Loss: 1507382604729.9468\n",
      "\tValidation Loss: 1662436580651.684\n"
     ]
    },
    {
     "data": {
      "text/plain": [
       "tensor([ 766160.0625,  128554.1406,  505372.1562,  518738.0625,  283621.8125,\n",
       "        4740821.0000], requires_grad=True)"
      ]
     },
     "execution_count": 821,
     "metadata": {},
     "output_type": "execute_result"
    }
   ],
   "source": [
    "params = torch.tensor([1.0, 1.0, 1.0, 1.0, 1.0, 0.0], requires_grad=True)\n",
    "optimizer = optim.SGD([params], 0.01)\n",
    "training_loop(5000, optimizer, params, t_in=train_inputs, t_out=train_outputs, v_in=X_test, v_out=Y_test)"
   ]
  },
  {
   "cell_type": "markdown",
   "metadata": {},
   "source": [
    "### 0.001 Learning Rate"
   ]
  },
  {
   "cell_type": "code",
   "execution_count": 822,
   "metadata": {},
   "outputs": [
    {
     "name": "stdout",
     "output_type": "stream",
     "text": [
      "Epoch 500:\n",
      "\tTraining Loss: 4641716340687.084\n",
      "\tValidation Loss: 5322454411895.079\n",
      "Epoch 1000:\n",
      "\tTraining Loss: 1943805189537.7068\n",
      "\tValidation Loss: 2271569319505.7476\n",
      "Epoch 1500:\n",
      "\tTraining Loss: 1572475413525.521\n",
      "\tValidation Loss: 1780470312898.3574\n",
      "Epoch 2000:\n",
      "\tTraining Loss: 1518214421849.922\n",
      "\tValidation Loss: 1688471739953.9717\n",
      "Epoch 2500:\n",
      "\tTraining Loss: 1509500415948.3904\n",
      "\tValidation Loss: 1668249916813.992\n",
      "Epoch 3000:\n",
      "\tTraining Loss: 1507877293003.6233\n",
      "\tValidation Loss: 1663352000621.6482\n",
      "Epoch 3500:\n",
      "\tTraining Loss: 1507515802958.6023\n",
      "\tValidation Loss: 1662228525386.9253\n",
      "Epoch 4000:\n",
      "\tTraining Loss: 1507421699291.8513\n",
      "\tValidation Loss: 1662078223581.3801\n",
      "Epoch 4500:\n",
      "\tTraining Loss: 1507394613449.1782\n",
      "\tValidation Loss: 1662153069945.7844\n",
      "Epoch 5000:\n",
      "\tTraining Loss: 1507386371617.8171\n",
      "\tValidation Loss: 1662249069560.7776\n"
     ]
    },
    {
     "data": {
      "text/plain": [
       "tensor([ 765719.5000,  130439.9297,  504659.3125,  517359.2812,  284054.4375,\n",
       "        4740416.5000], requires_grad=True)"
      ]
     },
     "execution_count": 822,
     "metadata": {},
     "output_type": "execute_result"
    }
   ],
   "source": [
    "params = torch.tensor([1.0, 1.0, 1.0, 1.0, 1.0, 0.0], requires_grad=True)\n",
    "optimizer = optim.SGD([params], 0.001)\n",
    "training_loop(5000, optimizer, params, t_in=train_inputs, t_out=train_outputs, v_in=X_test, v_out=Y_test)"
   ]
  },
  {
   "cell_type": "markdown",
   "metadata": {},
   "source": [
    "### 0.0001 Learning Rate"
   ]
  },
  {
   "cell_type": "code",
   "execution_count": 823,
   "metadata": {},
   "outputs": [
    {
     "name": "stdout",
     "output_type": "stream",
     "text": [
      "Epoch 500:\n",
      "\tTraining Loss: 21258326769161.105\n",
      "\tValidation Loss: 22626776042540.562\n",
      "Epoch 1000:\n",
      "\tTraining Loss: 17511808227876.092\n",
      "\tValidation Loss: 18799129217945.29\n",
      "Epoch 1500:\n",
      "\tTraining Loss: 14499868528241.479\n",
      "\tValidation Loss: 15703650394132.19\n",
      "Epoch 2000:\n",
      "\tTraining Loss: 12071740582446.129\n",
      "\tValidation Loss: 13192035229698.766\n",
      "Epoch 2500:\n",
      "\tTraining Loss: 10109518632874.418\n",
      "\tValidation Loss: 11148231494982.557\n",
      "Epoch 3000:\n",
      "\tTraining Loss: 8520428771927.033\n",
      "\tValidation Loss: 9480792609376.025\n",
      "Epoch 3500:\n",
      "\tTraining Loss: 7231153460144.087\n",
      "\tValidation Loss: 8117297392306.548\n",
      "Epoch 4000:\n",
      "\tTraining Loss: 6183440535891.59\n",
      "\tValidation Loss: 7000041872257.728\n",
      "Epoch 4500:\n",
      "\tTraining Loss: 5330849624586.3955\n",
      "\tValidation Loss: 6082868943709.304\n",
      "Epoch 5000:\n",
      "\tTraining Loss: 4636188633076.935\n",
      "\tValidation Loss: 5328663224149.18\n"
     ]
    },
    {
     "data": {
      "text/plain": [
       "tensor([ 541967.8750,  305071.5000,  379193.1875,  342289.7188,  304700.3750,\n",
       "        2993756.2500], requires_grad=True)"
      ]
     },
     "execution_count": 823,
     "metadata": {},
     "output_type": "execute_result"
    }
   ],
   "source": [
    "params = torch.tensor([1.0, 1.0, 1.0, 1.0, 1.0, 0.0], requires_grad=True)\n",
    "optimizer = optim.SGD([params], 0.0001)\n",
    "training_loop(5000, optimizer, params, t_in=train_inputs, t_out=train_outputs, v_in=X_test, v_out=Y_test)"
   ]
  },
  {
   "cell_type": "markdown",
   "metadata": {},
   "source": [
    "The models above have the following (best case) validation losses:\n",
    "- ADAM: \n",
    "    - 0.1: 27368475719417.35\n",
    "    - 0.01: 27376514749575.36\n",
    "    - 0.001: 27377318921989.63\n",
    "    - 0.0001: 27377318921989.63\n",
    "- SGD:\n",
    "    - 0.1: 1662434492724.132\n",
    "    - 0.01: 1662436580651.684\n",
    "    - 0.001: 1662249069560.7776\n",
    "    - 0.0001: 5328663224149.18\n",
    "\n",
    "In my previous homework the losses were close to about 1.5e13. The ADAM set has a worse loss than the original linear regression, however the SGD set has a significantly better loss of 1.6e12."
   ]
  },
  {
   "cell_type": "markdown",
   "metadata": {},
   "source": [
    "# Problem 3"
   ]
  },
  {
   "cell_type": "code",
   "execution_count": 824,
   "metadata": {},
   "outputs": [
    {
     "data": {
      "text/html": [
       "<div>\n",
       "<style scoped>\n",
       "    .dataframe tbody tr th:only-of-type {\n",
       "        vertical-align: middle;\n",
       "    }\n",
       "\n",
       "    .dataframe tbody tr th {\n",
       "        vertical-align: top;\n",
       "    }\n",
       "\n",
       "    .dataframe thead th {\n",
       "        text-align: right;\n",
       "    }\n",
       "</style>\n",
       "<table border=\"1\" class=\"dataframe\">\n",
       "  <thead>\n",
       "    <tr style=\"text-align: right;\">\n",
       "      <th></th>\n",
       "      <th>area</th>\n",
       "      <th>bedrooms</th>\n",
       "      <th>bathrooms</th>\n",
       "      <th>stories</th>\n",
       "      <th>mainroad</th>\n",
       "      <th>guestroom</th>\n",
       "      <th>basement</th>\n",
       "      <th>hotwaterheating</th>\n",
       "      <th>airconditioning</th>\n",
       "      <th>parking</th>\n",
       "      <th>prefarea</th>\n",
       "      <th>furnishingstatus</th>\n",
       "    </tr>\n",
       "  </thead>\n",
       "  <tbody>\n",
       "    <tr>\n",
       "      <th>0</th>\n",
       "      <td>7420</td>\n",
       "      <td>4</td>\n",
       "      <td>2</td>\n",
       "      <td>3</td>\n",
       "      <td>1</td>\n",
       "      <td>0</td>\n",
       "      <td>0</td>\n",
       "      <td>0</td>\n",
       "      <td>1</td>\n",
       "      <td>2</td>\n",
       "      <td>1</td>\n",
       "      <td>2</td>\n",
       "    </tr>\n",
       "    <tr>\n",
       "      <th>1</th>\n",
       "      <td>8960</td>\n",
       "      <td>4</td>\n",
       "      <td>4</td>\n",
       "      <td>4</td>\n",
       "      <td>1</td>\n",
       "      <td>0</td>\n",
       "      <td>0</td>\n",
       "      <td>0</td>\n",
       "      <td>1</td>\n",
       "      <td>3</td>\n",
       "      <td>0</td>\n",
       "      <td>2</td>\n",
       "    </tr>\n",
       "    <tr>\n",
       "      <th>2</th>\n",
       "      <td>9960</td>\n",
       "      <td>3</td>\n",
       "      <td>2</td>\n",
       "      <td>2</td>\n",
       "      <td>1</td>\n",
       "      <td>0</td>\n",
       "      <td>1</td>\n",
       "      <td>0</td>\n",
       "      <td>0</td>\n",
       "      <td>2</td>\n",
       "      <td>1</td>\n",
       "      <td>0</td>\n",
       "    </tr>\n",
       "    <tr>\n",
       "      <th>3</th>\n",
       "      <td>7500</td>\n",
       "      <td>4</td>\n",
       "      <td>2</td>\n",
       "      <td>2</td>\n",
       "      <td>1</td>\n",
       "      <td>0</td>\n",
       "      <td>1</td>\n",
       "      <td>0</td>\n",
       "      <td>1</td>\n",
       "      <td>3</td>\n",
       "      <td>1</td>\n",
       "      <td>2</td>\n",
       "    </tr>\n",
       "    <tr>\n",
       "      <th>4</th>\n",
       "      <td>7420</td>\n",
       "      <td>4</td>\n",
       "      <td>1</td>\n",
       "      <td>2</td>\n",
       "      <td>1</td>\n",
       "      <td>1</td>\n",
       "      <td>1</td>\n",
       "      <td>0</td>\n",
       "      <td>1</td>\n",
       "      <td>2</td>\n",
       "      <td>0</td>\n",
       "      <td>2</td>\n",
       "    </tr>\n",
       "  </tbody>\n",
       "</table>\n",
       "</div>"
      ],
      "text/plain": [
       "   area  bedrooms  bathrooms  stories  mainroad  guestroom  basement  \\\n",
       "0  7420         4          2        3         1          0         0   \n",
       "1  8960         4          4        4         1          0         0   \n",
       "2  9960         3          2        2         1          0         1   \n",
       "3  7500         4          2        2         1          0         1   \n",
       "4  7420         4          1        2         1          1         1   \n",
       "\n",
       "   hotwaterheating  airconditioning  parking  prefarea  furnishingstatus  \n",
       "0                0                1        2         1                 2  \n",
       "1                0                1        3         0                 2  \n",
       "2                0                0        2         1                 0  \n",
       "3                0                1        3         1                 2  \n",
       "4                0                1        2         0                 2  "
      ]
     },
     "execution_count": 824,
     "metadata": {},
     "output_type": "execute_result"
    }
   ],
   "source": [
    "og_df = prep_data()\n",
    "price = og_df.pop('price').to_numpy()\n",
    "\n",
    "scaler_x = StandardScaler()\n",
    "data = scaler_x.fit_transform(og_df)\n",
    "\n",
    "X_train, X_test, Y_train, Y_test = train_test_split(data, price, test_size=0.2, random_state=15)\n",
    "\n",
    "train_inputs = torch.tensor(X_train)\n",
    "train_outputs = torch.tensor(Y_train)\n",
    "Y_test = torch.tensor(Y_test)\n",
    "X_test = torch.tensor(X_test)\n",
    "og_df.head()\n"
   ]
  },
  {
   "cell_type": "markdown",
   "metadata": {},
   "source": [
    "## ADAM Optimizer"
   ]
  },
  {
   "cell_type": "markdown",
   "metadata": {},
   "source": [
    "### 0.1 Learning Rate"
   ]
  },
  {
   "cell_type": "code",
   "execution_count": 825,
   "metadata": {},
   "outputs": [
    {
     "name": "stdout",
     "output_type": "stream",
     "text": [
      "Epoch 500:\n",
      "\tTraining Loss: 25921731391188.605\n",
      "\tValidation Loss: 27375986125170.15\n",
      "Epoch 1000:\n",
      "\tTraining Loss: 25920538168385.363\n",
      "\tValidation Loss: 27374574605766.4\n",
      "Epoch 1500:\n",
      "\tTraining Loss: 25919345110838.19\n",
      "\tValidation Loss: 27373163317829.445\n",
      "Epoch 2000:\n",
      "\tTraining Loss: 25918152283883.453\n",
      "\tValidation Loss: 27371752316530.254\n",
      "Epoch 2500:\n",
      "\tTraining Loss: 25916959622628.543\n",
      "\tValidation Loss: 27370341519823.57\n",
      "Epoch 3000:\n",
      "\tTraining Loss: 25915767029863.344\n",
      "\tValidation Loss: 27368930823996.863\n",
      "Epoch 3500:\n",
      "\tTraining Loss: 25914574572377.652\n",
      "\tValidation Loss: 27367520323728.13\n",
      "Epoch 4000:\n",
      "\tTraining Loss: 25913382257335.465\n",
      "\tValidation Loss: 27366110006308.21\n",
      "Epoch 4500:\n",
      "\tTraining Loss: 25912190098532.78\n",
      "\tValidation Loss: 27364699867796.37\n",
      "Epoch 5000:\n",
      "\tTraining Loss: 25910998086953.48\n",
      "\tValidation Loss: 27363289898558.938\n"
     ]
    },
    {
     "data": {
      "text/plain": [
       "tensor([500.9055, 500.9014, 500.8997, 500.9022, 500.8670, 500.5865, 500.7296,\n",
       "        500.8219, 500.9032, 500.8975, 500.8954, 500.8673, 500.0066],\n",
       "       requires_grad=True)"
      ]
     },
     "execution_count": 825,
     "metadata": {},
     "output_type": "execute_result"
    }
   ],
   "source": [
    "params = torch.tensor([1.0, 1.0, 1.0, 1.0, 1.0, 1.0, 1.0, 1.0, 1.0, 1.0, 1.0, 1.0, 0.0], requires_grad=True)\n",
    "optimizer = optim.Adam([params], 0.1)\n",
    "housing_lin_params = training_loop(5000, optimizer, params, t_in=train_inputs, t_out=train_outputs, v_in=X_test, v_out=Y_test)\n",
    "housing_lin_params"
   ]
  },
  {
   "cell_type": "markdown",
   "metadata": {},
   "source": [
    "### 0.01 Learning Rate"
   ]
  },
  {
   "cell_type": "code",
   "execution_count": 826,
   "metadata": {},
   "outputs": [
    {
     "name": "stdout",
     "output_type": "stream",
     "text": [
      "Epoch 500:\n",
      "\tTraining Loss: 25922803308964.93\n",
      "\tValidation Loss: 27377256721000.53\n"
     ]
    },
    {
     "name": "stdout",
     "output_type": "stream",
     "text": [
      "Epoch 1000:\n",
      "\tTraining Loss: 25922683958313.18\n",
      "\tValidation Loss: 27377115530995.426\n",
      "Epoch 1500:\n",
      "\tTraining Loss: 25922564608382.98\n",
      "\tValidation Loss: 27376974342150.31\n",
      "Epoch 2000:\n",
      "\tTraining Loss: 25922445259165.72\n",
      "\tValidation Loss: 27376833155461.29\n",
      "Epoch 2500:\n",
      "\tTraining Loss: 25922325911295.426\n",
      "\tValidation Loss: 27376691970372.992\n",
      "Epoch 3000:\n",
      "\tTraining Loss: 25922206564785.207\n",
      "\tValidation Loss: 27376550786888.55\n",
      "Epoch 3500:\n",
      "\tTraining Loss: 25922087235827.047\n",
      "\tValidation Loss: 27376409622289.65\n",
      "Epoch 4000:\n",
      "\tTraining Loss: 25921967914494.715\n",
      "\tValidation Loss: 27376268465605.73\n",
      "Epoch 4500:\n",
      "\tTraining Loss: 25921848594521.973\n",
      "\tValidation Loss: 27376127310525.137\n",
      "Epoch 5000:\n",
      "\tTraining Loss: 25921729275908.824\n",
      "\tValidation Loss: 27375986157047.863\n"
     ]
    },
    {
     "data": {
      "text/plain": [
       "tensor([50.9973, 50.9973, 50.9973, 50.9973, 50.9971, 50.9934, 50.9963, 50.9969,\n",
       "        50.9973, 50.9972, 50.9972, 50.9970, 49.9976], requires_grad=True)"
      ]
     },
     "execution_count": 826,
     "metadata": {},
     "output_type": "execute_result"
    }
   ],
   "source": [
    "params = torch.tensor([1.0, 1.0, 1.0, 1.0, 1.0, 1.0, 1.0, 1.0, 1.0, 1.0, 1.0, 1.0, 0.0], requires_grad=True)\n",
    "optimizer = optim.Adam([params], 0.01)\n",
    "training_loop(5000, optimizer, params, t_in=train_inputs, t_out=train_outputs, v_in=X_test, v_out=Y_test)"
   ]
  },
  {
   "cell_type": "markdown",
   "metadata": {},
   "source": [
    "### 0.001 Learning Rate"
   ]
  },
  {
   "cell_type": "code",
   "execution_count": 827,
   "metadata": {},
   "outputs": [
    {
     "name": "stdout",
     "output_type": "stream",
     "text": [
      "Epoch 500:\n",
      "\tTraining Loss: 25922910508979.84\n",
      "\tValidation Loss: 27377383792113.66\n",
      "Epoch 1000:\n",
      "\tTraining Loss: 25922898573568.91\n",
      "\tValidation Loss: 27377369672526.203\n",
      "Epoch 1500:\n",
      "\tTraining Loss: 25922886638745.15\n",
      "\tValidation Loss: 27377355553769.773\n",
      "Epoch 2000:\n",
      "\tTraining Loss: 25922874703936.137\n",
      "\tValidation Loss: 27377341435029.38\n",
      "Epoch 2500:\n",
      "\tTraining Loss: 25922862769705.156\n",
      "\tValidation Loss: 27377327316883.984\n",
      "Epoch 3000:\n",
      "\tTraining Loss: 25922850835488.9\n",
      "\tValidation Loss: 27377313198754.625\n",
      "Epoch 3500:\n",
      "\tTraining Loss: 25922838901286.242\n",
      "\tValidation Loss: 27377299080641.305\n",
      "Epoch 4000:\n",
      "\tTraining Loss: 25922826967097.184\n",
      "\tValidation Loss: 27377284962544.016\n",
      "Epoch 4500:\n",
      "\tTraining Loss: 25922815032919.465\n",
      "\tValidation Loss: 27377270844460.45\n",
      "Epoch 5000:\n",
      "\tTraining Loss: 25922803098757.6\n",
      "\tValidation Loss: 27377256726395.24\n"
     ]
    },
    {
     "data": {
      "text/plain": [
       "tensor([5.9998, 5.9998, 5.9998, 5.9998, 5.9998, 5.9998, 5.9998, 5.9998, 5.9998,\n",
       "        5.9998, 5.9998, 5.9998, 4.9998], requires_grad=True)"
      ]
     },
     "execution_count": 827,
     "metadata": {},
     "output_type": "execute_result"
    }
   ],
   "source": [
    "params = torch.tensor([1.0, 1.0, 1.0, 1.0, 1.0, 1.0, 1.0, 1.0, 1.0, 1.0, 1.0, 1.0, 0.0], requires_grad=True)\n",
    "optimizer = optim.Adam([params], 0.001)\n",
    "training_loop(5000, optimizer, params, t_in=train_inputs, t_out=train_outputs, v_in=X_test, v_out=Y_test)"
   ]
  },
  {
   "cell_type": "markdown",
   "metadata": {},
   "source": [
    "### 0.0001 Learning Rate"
   ]
  },
  {
   "cell_type": "code",
   "execution_count": 828,
   "metadata": {},
   "outputs": [
    {
     "name": "stdout",
     "output_type": "stream",
     "text": [
      "Epoch 500:\n",
      "\tTraining Loss: 25922921229316.71\n",
      "\tValidation Loss: 27377396499670.953\n",
      "Epoch 1000:\n",
      "\tTraining Loss: 25922920035673.953\n",
      "\tValidation Loss: 27377395087585.18\n",
      "Epoch 1500:\n",
      "\tTraining Loss: 25922918842031.4\n",
      "\tValidation Loss: 27377393675499.637\n",
      "Epoch 2000:\n",
      "\tTraining Loss: 25922917648388.91\n",
      "\tValidation Loss: 27377392263414.184\n",
      "Epoch 2500:\n",
      "\tTraining Loss: 25922916454746.56\n",
      "\tValidation Loss: 27377390851329.03\n",
      "Epoch 3000:\n",
      "\tTraining Loss: 25922915261175.035\n",
      "\tValidation Loss: 27377389439316.27\n",
      "Epoch 3500:\n",
      "\tTraining Loss: 25922914067603.652\n",
      "\tValidation Loss: 27377388027303.668\n",
      "Epoch 4000:\n",
      "\tTraining Loss: 25922912874032.41\n",
      "\tValidation Loss: 27377386615291.23\n",
      "Epoch 4500:\n",
      "\tTraining Loss: 25922911680461.293\n",
      "\tValidation Loss: 27377385203278.945\n",
      "Epoch 5000:\n",
      "\tTraining Loss: 25922910486890.312\n",
      "\tValidation Loss: 27377383791266.824\n"
     ]
    },
    {
     "data": {
      "text/plain": [
       "tensor([1.5001, 1.5001, 1.5001, 1.5001, 1.5001, 1.5001, 1.5001, 1.5001, 1.5001,\n",
       "        1.5001, 1.5001, 1.5001, 0.5000], requires_grad=True)"
      ]
     },
     "execution_count": 828,
     "metadata": {},
     "output_type": "execute_result"
    }
   ],
   "source": [
    "params = torch.tensor([1.0, 1.0, 1.0, 1.0, 1.0, 1.0, 1.0, 1.0, 1.0, 1.0, 1.0, 1.0, 0.0], requires_grad=True)\n",
    "optimizer = optim.Adam([params], 0.0001)\n",
    "training_loop(5000, optimizer, params, t_in=train_inputs, t_out=train_outputs, v_in=X_test, v_out=Y_test)"
   ]
  },
  {
   "cell_type": "markdown",
   "metadata": {},
   "source": [
    "## SGD Optimizer"
   ]
  },
  {
   "cell_type": "markdown",
   "metadata": {},
   "source": [
    "### 0.1 Learning Rate"
   ]
  },
  {
   "cell_type": "code",
   "execution_count": 829,
   "metadata": {},
   "outputs": [
    {
     "name": "stdout",
     "output_type": "stream",
     "text": [
      "Epoch 500:\n",
      "\tTraining Loss: 1090467899724.8202\n",
      "\tValidation Loss: 1377610385759.4404\n",
      "Epoch 1000:\n",
      "\tTraining Loss: 1090467899724.8202\n",
      "\tValidation Loss: 1377610385759.4404\n",
      "Epoch 1500:\n",
      "\tTraining Loss: 1090467899724.8202\n",
      "\tValidation Loss: 1377610385759.4404\n",
      "Epoch 2000:\n",
      "\tTraining Loss: 1090467899724.8202\n",
      "\tValidation Loss: 1377610385759.4404\n",
      "Epoch 2500:\n",
      "\tTraining Loss: 1090467899724.8202\n",
      "\tValidation Loss: 1377610385759.4404\n",
      "Epoch 3000:\n",
      "\tTraining Loss: 1090467899724.8202\n",
      "\tValidation Loss: 1377610385759.4404\n",
      "Epoch 3500:\n",
      "\tTraining Loss: 1090467899724.8202\n",
      "\tValidation Loss: 1377610385759.4404\n",
      "Epoch 4000:\n",
      "\tTraining Loss: 1090467899724.8202\n",
      "\tValidation Loss: 1377610385759.4404\n",
      "Epoch 4500:\n",
      "\tTraining Loss: 1090467899724.8202\n",
      "\tValidation Loss: 1377610385759.4404\n",
      "Epoch 5000:\n",
      "\tTraining Loss: 1090467899724.8202\n",
      "\tValidation Loss: 1377610385759.4404\n"
     ]
    },
    {
     "data": {
      "text/plain": [
       "tensor([ 566222.0625,  112292.5625,  430681.3438,  433103.7812,  170471.9844,\n",
       "          53671.8516,  197902.0625,  183952.2031,  454856.2188,  204145.7344,\n",
       "         271416.5938,   79551.2578, 4755640.5000], requires_grad=True)"
      ]
     },
     "execution_count": 829,
     "metadata": {},
     "output_type": "execute_result"
    }
   ],
   "source": [
    "params = torch.tensor([1.0, 1.0, 1.0, 1.0, 1.0, 1.0, 1.0, 1.0, 1.0, 1.0, 1.0, 1.0, 0.0], requires_grad=True)\n",
    "optimizer = optim.SGD([params], 0.1)\n",
    "training_loop(5000, optimizer, params, t_in=train_inputs, t_out=train_outputs, v_in=X_test, v_out=Y_test)"
   ]
  },
  {
   "cell_type": "markdown",
   "metadata": {},
   "source": [
    "### 0.01 Learning Rate"
   ]
  },
  {
   "cell_type": "code",
   "execution_count": 830,
   "metadata": {},
   "outputs": [
    {
     "name": "stdout",
     "output_type": "stream",
     "text": [
      "Epoch 500:\n",
      "\tTraining Loss: 1090479734892.7542\n",
      "\tValidation Loss: 1376975953311.8682\n",
      "Epoch 1000:\n",
      "\tTraining Loss: 1090467902857.2993\n",
      "\tValidation Loss: 1377594844195.945\n",
      "Epoch 1500:\n",
      "\tTraining Loss: 1090467899886.6433\n",
      "\tValidation Loss: 1377610918904.6133\n",
      "Epoch 2000:\n",
      "\tTraining Loss: 1090467899886.6433\n",
      "\tValidation Loss: 1377610918904.6133\n",
      "Epoch 2500:\n",
      "\tTraining Loss: 1090467899886.6433\n",
      "\tValidation Loss: 1377610918904.6133\n",
      "Epoch 3000:\n",
      "\tTraining Loss: 1090467899886.6433\n",
      "\tValidation Loss: 1377610918904.6133\n",
      "Epoch 3500:\n",
      "\tTraining Loss: 1090467899886.6433\n",
      "\tValidation Loss: 1377610918904.6133\n",
      "Epoch 4000:\n",
      "\tTraining Loss: 1090467899886.6433\n",
      "\tValidation Loss: 1377610918904.6133\n",
      "Epoch 4500:\n",
      "\tTraining Loss: 1090467899886.6433\n",
      "\tValidation Loss: 1377610918904.6133\n",
      "Epoch 5000:\n",
      "\tTraining Loss: 1090467899886.6433\n",
      "\tValidation Loss: 1377610918904.6133\n"
     ]
    },
    {
     "data": {
      "text/plain": [
       "tensor([ 566219.8125,  112293.8203,  430682.2812,  433101.5000,  170472.7812,\n",
       "          53671.8633,  197900.5781,  183952.9375,  454857.5000,  204146.0938,\n",
       "         271417.5938,   79551.3047, 4755629.0000], requires_grad=True)"
      ]
     },
     "execution_count": 830,
     "metadata": {},
     "output_type": "execute_result"
    }
   ],
   "source": [
    "params = torch.tensor([1.0, 1.0, 1.0, 1.0, 1.0, 1.0, 1.0, 1.0, 1.0, 1.0, 1.0, 1.0, 0.0], requires_grad=True)\n",
    "optimizer = optim.SGD([params], 0.01)\n",
    "training_loop(5000, optimizer, params, t_in=train_inputs, t_out=train_outputs, v_in=X_test, v_out=Y_test)"
   ]
  },
  {
   "cell_type": "markdown",
   "metadata": {},
   "source": [
    "### 0.001 Learning Rate"
   ]
  },
  {
   "cell_type": "code",
   "execution_count": 831,
   "metadata": {},
   "outputs": [
    {
     "name": "stdout",
     "output_type": "stream",
     "text": [
      "Epoch 500:\n",
      "\tTraining Loss: 4222745994444.868\n",
      "\tValidation Loss: 4870651697414.323\n",
      "Epoch 1000:\n",
      "\tTraining Loss: 1529634151516.2778\n",
      "\tValidation Loss: 1927493941369.3716\n",
      "Epoch 1500:\n",
      "\tTraining Loss: 1156077887251.0\n",
      "\tValidation Loss: 1474907239802.5115\n",
      "Epoch 2000:\n",
      "\tTraining Loss: 1101447805415.0837\n",
      "\tValidation Loss: 1396886639064.551\n",
      "Epoch 2500:\n",
      "\tTraining Loss: 1092701028757.6425\n",
      "\tValidation Loss: 1381184328787.9885\n",
      "Epoch 3000:\n",
      "\tTraining Loss: 1091051569037.6569\n",
      "\tValidation Loss: 1377540052026.2556\n",
      "Epoch 3500:\n",
      "\tTraining Loss: 1090658129800.5425\n",
      "\tValidation Loss: 1376711749001.1938\n",
      "Epoch 4000:\n",
      "\tTraining Loss: 1090539202864.3151\n",
      "\tValidation Loss: 1376647109632.326\n",
      "Epoch 4500:\n",
      "\tTraining Loss: 1090496683214.1729\n",
      "\tValidation Loss: 1376793159903.6584\n",
      "Epoch 5000:\n",
      "\tTraining Loss: 1090479965189.0006\n",
      "\tValidation Loss: 1376974799038.9314\n"
     ]
    },
    {
     "data": {
      "text/plain": [
       "tensor([ 564906.2500,  114946.6641,  430620.7812,  429760.5000,  171411.6719,\n",
       "          54735.9023,  195709.6406,  184359.5469,  455962.8750,  204253.8750,\n",
       "         271819.3750,   79684.7891, 4755194.5000], requires_grad=True)"
      ]
     },
     "execution_count": 831,
     "metadata": {},
     "output_type": "execute_result"
    }
   ],
   "source": [
    "params = torch.tensor([1.0, 1.0, 1.0, 1.0, 1.0, 1.0, 1.0, 1.0, 1.0, 1.0, 1.0, 1.0, 0.0], requires_grad=True)\n",
    "optimizer = optim.SGD([params], 0.001)\n",
    "training_loop(5000, optimizer, params, t_in=train_inputs, t_out=train_outputs, v_in=X_test, v_out=Y_test)"
   ]
  },
  {
   "cell_type": "markdown",
   "metadata": {},
   "source": [
    "### 0.0001 Learning Rate"
   ]
  },
  {
   "cell_type": "code",
   "execution_count": 832,
   "metadata": {},
   "outputs": [
    {
     "name": "stdout",
     "output_type": "stream",
     "text": [
      "Epoch 500:\n",
      "\tTraining Loss: 21016725522192.53\n",
      "\tValidation Loss: 22315362295585.32\n",
      "Epoch 1000:\n",
      "\tTraining Loss: 17149738002054.932\n",
      "\tValidation Loss: 18333443285931.68\n",
      "Epoch 1500:\n",
      "\tTraining Loss: 14083016420022.963\n",
      "\tValidation Loss: 15171013401191.445\n",
      "Epoch 2000:\n",
      "\tTraining Loss: 11634161197368.83\n",
      "\tValidation Loss: 12639516396428.236\n",
      "Epoch 2500:\n",
      "\tTraining Loss: 9667791925794.832\n",
      "\tValidation Loss: 10600009046729.742\n",
      "Epoch 3000:\n",
      "\tTraining Loss: 8081782470019.58\n",
      "\tValidation Loss: 8948300625586.043\n",
      "Epoch 3500:\n",
      "\tTraining Loss: 6798012473899.022\n",
      "\tValidation Loss: 7605048058276.607\n",
      "Epoch 4000:\n",
      "\tTraining Loss: 5755944995054.791\n",
      "\tValidation Loss: 6508957487179.275\n",
      "Epoch 4500:\n",
      "\tTraining Loss: 4908173487794.751\n",
      "\tValidation Loss: 5612108117721.291\n",
      "Epoch 5000:\n",
      "\tTraining Loss: 4217230856032.463\n",
      "\tValidation Loss: 4876643615819.97\n"
     ]
    },
    {
     "data": {
      "text/plain": [
       "tensor([ 446630.5000,  280736.6250,  337751.0625,  294763.8125,  181535.0938,\n",
       "          41578.7227,  105279.8672,  126069.5078,  356954.8438,  248250.8125,\n",
       "         219036.3438,  156873.2500, 2998292.2500], requires_grad=True)"
      ]
     },
     "execution_count": 832,
     "metadata": {},
     "output_type": "execute_result"
    }
   ],
   "source": [
    "params = torch.tensor([1.0, 1.0, 1.0, 1.0, 1.0, 1.0, 1.0, 1.0, 1.0, 1.0, 1.0, 1.0, 0.0], requires_grad=True)\n",
    "optimizer = optim.SGD([params], 0.0001)\n",
    "training_loop(5000, optimizer, params, t_in=train_inputs, t_out=train_outputs, v_in=X_test, v_out=Y_test)"
   ]
  },
  {
   "cell_type": "markdown",
   "metadata": {},
   "source": [
    "The models above have the following (best case) validation losses:\n",
    "- ADAM: \n",
    "    - 0.1: 27363289898558.938\n",
    "    - 0.01: 27375986157047.863\n",
    "    - 0.001: 27377256726395.24\n",
    "    - 0.0001: 27377383791266.824\n",
    "- SGD:\n",
    "    - 0.1: 1377610385759.4404\n",
    "    - 0.01: 1377610918904.6133\n",
    "    - 0.001: 1376974799038.9314\n",
    "    - 0.0001: 4876643615819.97\n",
    "\n",
    "In my previous homework the losses were close to about 1.5e13. The ADAM set has a worse loss than the original linear regression, however the SGD set has a significantly better loss of 1.3e12."
   ]
  }
 ],
 "metadata": {
  "kernelspec": {
   "display_name": "Python 3",
   "language": "python",
   "name": "python3"
  },
  "language_info": {
   "codemirror_mode": {
    "name": "ipython",
    "version": 3
   },
   "file_extension": ".py",
   "mimetype": "text/x-python",
   "name": "python",
   "nbconvert_exporter": "python",
   "pygments_lexer": "ipython3",
   "version": "3.11.3"
  }
 },
 "nbformat": 4,
 "nbformat_minor": 2
}
