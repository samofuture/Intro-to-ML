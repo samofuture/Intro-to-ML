{
 "cells": [
  {
   "cell_type": "code",
   "execution_count": 56,
   "metadata": {},
   "outputs": [],
   "source": [
    "import numpy as np\n",
    "import pandas as pd\n",
    "import matplotlib.pyplot as plt\n",
    "from sklearn.model_selection import train_test_split"
   ]
  },
  {
   "cell_type": "code",
   "execution_count": 57,
   "metadata": {},
   "outputs": [],
   "source": [
    "def find_loss(theta, input, expected) -> float:\n",
    "    m = len(input)\n",
    "    predicted = input.dot(theta)\n",
    "    difference = (predicted - expected)**2\n",
    "    J = 1 / (2 * m) * np.sum(difference)\n",
    "    return J"
   ]
  },
  {
   "cell_type": "code",
   "execution_count": 58,
   "metadata": {},
   "outputs": [],
   "source": [
    "def validate(test_x, test_y, thetas) -> float:\n",
    "    loss = 0\n",
    "    for input, expected in zip(test_x, test_y):\n",
    "        loss += find_loss(thetas, input, expected)\n",
    "    return loss"
   ]
  },
  {
   "cell_type": "code",
   "execution_count": 59,
   "metadata": {},
   "outputs": [],
   "source": [
    "df = pd.read_csv(\"Housing.csv\")\n",
    "\n",
    "df['mainroad'] = df['mainroad'].apply(lambda x: 1 if x == 'yes' else 0)\n",
    "df['guestroom'] = df['guestroom'].apply(lambda x: 1 if x == 'yes' else 0)\n",
    "df['basement'] = df['basement'].apply(lambda x: 1 if x == 'yes' else 0)\n",
    "df['hotwaterheating'] = df['hotwaterheating'].apply(lambda x: 1 if x == 'yes' else 0)\n",
    "df['airconditioning'] = df['airconditioning'].apply(lambda x: 1 if x == 'yes' else 0)\n",
    "df['prefarea'] = df['prefarea'].apply(lambda x: 1 if x == 'yes' else 0)\n",
    "df['furnishingstatus'] = df['furnishingstatus'].apply(lambda x: 2 if x == 'furnished' else 0)\n",
    "\n",
    "temp_y = df.pop('price')\n",
    "columns_to_separate = ['mainroad', 'guestroom', 'basement', 'hotwaterheating', 'airconditioning', 'prefarea', 'furnishingstatus']\n",
    "bool_df = {col: df.pop(col) for col in columns_to_separate}\n",
    "\n",
    "# Normailzation\n",
    "norm = np.linalg.norm(df)\n",
    "df = df/norm\n",
    "\n",
    "# Standardization\n",
    "# standard = (df - np.mean(df)) / np.std(df)\n",
    "\n",
    "df['price'] = temp_y\n",
    "for col in columns_to_separate:\n",
    "    df[col] = bool_df[col]\n",
    "train_df, test_df = train_test_split(df, test_size=0.2, random_state=15)\n",
    "\n",
    "y = np.array(train_df.pop('price'))\n",
    "\n",
    "test_y = np.array(test_df.pop('price'))\n",
    "\n",
    "m = len(y)\n",
    "test_m = len(test_y)"
   ]
  },
  {
   "cell_type": "code",
   "execution_count": 60,
   "metadata": {},
   "outputs": [],
   "source": [
    "# Part A\n",
    "# factors_list : list[str] = ['area', 'bedrooms', 'bathrooms', 'stories', 'parking']\n",
    "# iterations = 500\n",
    "# alpha = 0.01\n",
    "\n",
    "# Part B\n",
    "factors_list : list[str] = ['area', 'bedrooms', 'bathrooms', 'stories', 'mainroad', \n",
    "                            'guestroom', 'basement', 'hotwaterheating', 'airconditioning',\n",
    "                            'parking', 'prefarea']\n",
    "iterations = 250\n",
    "alpha = 0.01\n",
    "\n",
    "x = np.ones((m, 1))\n",
    "test_x = np.ones((test_m, 1))\n",
    "\n",
    "X_b_train = np.c_[np.ones((len(train_df), 1)), train_df]\n",
    "X_b_val = np.c_[np.ones((len(test_df), 1)), test_df]\n",
    "\n",
    "for factor in factors_list:\n",
    "    temp = np.array(train_df[factor])\n",
    "    temp = temp.reshape(m, 1)\n",
    "    x = np.hstack((x, temp))\n",
    "    temp = np.array(test_df[factor])\n",
    "    temp = temp.reshape(test_m, 1)\n",
    "    test_x = np.hstack((test_x, temp))"
   ]
  },
  {
   "cell_type": "code",
   "execution_count": 65,
   "metadata": {},
   "outputs": [],
   "source": [
    "theta = np.zeros(len(factors_list)+1)\n",
    "\n",
    "j : list = []\n",
    "validation_loss : list[float] = []\n",
    "total_thetas : list = []\n",
    "train_losses : list = []\n",
    "    \n",
    "for i in range(iterations):\n",
    "    predictions = x.dot(theta)\n",
    "    errors = np.subtract(predictions, y)\n",
    "    sum_delta = (alpha / m) * x.transpose().dot(errors)\n",
    "    theta -= sum_delta\n",
    "    loss = find_loss(theta, x, y)\n",
    "    j.append(loss)\n",
    "    v = validate(test_x, test_y, theta)\n",
    "    validation_loss.append(v)\n",
    "\n",
    "    # gradients = 2/m * X_b_train.T.dot(X_b_train.dot(theta) - y)\n",
    "    # theta -= alpha * gradients\n",
    "\n",
    "    # train_loss = (1/m) * np.sum(np.square(X_b_train.dot(theta) - y))\n",
    "    # val_loss = (1/len(X_b_val)) * np.sum(np.square(X_b_val.dot(theta) - test_y))\n",
    "\n",
    "    # train_losses.append(train_loss)\n",
    "    # validation_loss.append(val_loss)\n",
    "\n",
    "total_thetas.append(theta)\n",
    "# total_loss.append(j[-1])\n"
   ]
  },
  {
   "cell_type": "code",
   "execution_count": null,
   "metadata": {},
   "outputs": [
    {
     "name": "stdout",
     "output_type": "stream",
     "text": [
      "Thetas: [array([2.27678013e+06, 1.18766539e+05, 6.01559766e+01, 2.94126045e+01,\n",
      "       4.19675990e+01, 1.86240048e+06, 3.81221461e+05, 6.74660480e+05,\n",
      "       2.14907421e+05, 1.14829088e+06, 1.98200731e+01, 6.98549281e+05])]\n",
      "Losses: [1145289381616.8926]\n",
      "Validation Loss: 12619054776173.666\n"
     ]
    },
    {
     "data": {
      "image/png": "[encoded data removed]",
      "text/plain": [
       "<Figure size 640x480 with 2 Axes>"
      ]
     },
     "metadata": {},
     "output_type": "display_data"
    }
   ],
   "source": [
    "print(\"Thetas:\", total_thetas)\n",
    "# print(\"Losses:\", total_loss)\n",
    "print(\"Validation Loss:\", validation_loss[-1])\n",
    "\n",
    "fig, ax = plt.subplots()\n",
    "\n",
    "ax.plot(j, label='Loss')\n",
    "ax2 = ax.twinx()\n",
    "ax2.plot(validation_loss, label='Validation Loss', color='orange')\n",
    "ax.legend()\n",
    "ax.set_ylabel('Error')\n",
    "ax.set_xlabel('Iteration')\n",
    "ax.set_ylim(0, ax.get_ylim()[1])\n",
    "ax2.set_ylim(0, ax2.get_ylim()[1])\n",
    "\n",
    "# Combine legends for both lines\n",
    "lines1, labels1 = ax.get_legend_handles_labels()\n",
    "lines2, labels2 = ax2.get_legend_handles_labels()\n",
    "ax.legend(lines1 + lines2, labels1 + labels2, loc='upper right')\n",
    "ax.set_title('Normalized')\n",
    "plt.show()"
   ]
  }
 ],
 "metadata": {
  "kernelspec": {
   "display_name": "Python 3",
   "language": "python",
   "name": "python3"
  },
  "language_info": {
   "codemirror_mode": {
    "name": "ipython",
    "version": 3
   },
   "file_extension": ".py",
   "mimetype": "text/x-python",
   "name": "python",
   "nbconvert_exporter": "python",
   "pygments_lexer": "ipython3",
   "version": "3.11.3"
  },
  "orig_nbformat": 4
 },
 "nbformat": 4,
 "nbformat_minor": 2
}
