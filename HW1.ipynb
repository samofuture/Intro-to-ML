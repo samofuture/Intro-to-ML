{
  "nbformat": 4,
  "nbformat_minor": 0,
  "metadata": {
    "colab": {
      "provenance": [],
      "authorship_tag": "ABX9TyOWpSgYwLLlbgZTaTolqPjm",
      "include_colab_link": true
    },
    "kernelspec": {
      "name": "python3",
      "display_name": "Python 3"
    },
    "language_info": {
      "name": "python"
    }
  },
  "cells": [
    {
      "cell_type": "markdown",
      "metadata": {
        "id": "view-in-github",
        "colab_type": "text"
      },
      "source": [
        "<a href=\"https://colab.research.google.com/github/samofuture/Intro-to-ML/blob/main/HW1.ipynb\" target=\"_parent\"><img src=\"https://colab.research.google.com/assets/colab-badge.svg\" alt=\"Open In Colab\"/></a>"
      ]
    },
    {
      "cell_type": "markdown",
      "source": [
        "Importing Libraries"
      ],
      "metadata": {
        "id": "UNI3CFMQwQhM"
      }
    },
    {
      "cell_type": "code",
      "source": [
        "import numpy as np\n",
        "import pandas as pd\n",
        "import matplotlib.pyplot as plt"
      ],
      "metadata": {
        "id": "DFJQBIJkuS7f"
      },
      "execution_count": 12,
      "outputs": []
    },
    {
      "cell_type": "markdown",
      "source": [
        "Loss Calculator"
      ],
      "metadata": {
        "id": "XwO9RgaCwTYg"
      }
    },
    {
      "cell_type": "code",
      "source": [
        "def find_loss(theta: float, input, expected) -> float:\n",
        "    m = len(input)\n",
        "    predicted = input.dot(theta)\n",
        "    difference = (predicted - expected)**2\n",
        "    J = 1 / (2 * m) * np.sum(difference)\n",
        "    return J"
      ],
      "metadata": {
        "id": "ZKSCxJgqubZJ"
      },
      "execution_count": null,
      "outputs": []
    },
    {
      "cell_type": "markdown",
      "source": [
        "Importing Information"
      ],
      "metadata": {
        "id": "17kfn0R4wXod"
      }
    },
    {
      "cell_type": "code",
      "source": [
        "df = pd.read_csv(\"https://raw.githubusercontent.com/samofuture/Intro-to-ML/main/HW1/D3.csv\")\n",
        "\n",
        "cols = df.columns\n",
        "y = np.array(df['Y'])\n",
        "m = len(y)\n",
        "cols = cols[:-1]\n",
        "total_thetas : list = []\n",
        "total_loss : list = []"
      ],
      "metadata": {
        "id": "RFpGk-JlvR7c"
      },
      "execution_count": 19,
      "outputs": []
    },
    {
      "cell_type": "markdown",
      "source": [
        "Calculating Linear Regression"
      ],
      "metadata": {
        "id": "NI4NGyX_wkcX"
      }
    },
    {
      "cell_type": "code",
      "source": [
        "col_names = ['X1', 'X2', 'X3']\n",
        "fig, ax = plt.subplots(len(cols))\n",
        "total_thetas : list = []\n",
        "total_loss : list = []\n",
        "for index, column in enumerate(cols):\n",
        "    x0 = np.ones((m, 1))\n",
        "    x1 = np.array(df[column])\n",
        "    x1 = x1.reshape(m, 1)\n",
        "    x = np.hstack((x0, x1))\n",
        "\n",
        "    theta = np.zeros(2)\n",
        "\n",
        "    j : list = []\n",
        "    alpha = .01\n",
        "\n",
        "    for i in range(1000):\n",
        "        predictions = x.dot(theta)\n",
        "        errors = np.subtract(predictions, y)\n",
        "        sum_delta = (alpha / m) * x.transpose().dot(errors)\n",
        "        theta -= sum_delta\n",
        "        loss = find_loss(theta, x, y)\n",
        "        j.append(loss)\n",
        "\n",
        "    total_thetas.append(theta)\n",
        "    total_loss.append(j[-1])\n",
        "\n",
        "    x_vals = np.linspace(min(x1), max(x1), 100)\n",
        "    h = x_vals * theta[1] + theta[0]\n",
        "\n",
        "    ax[index].scatter(x1, y, color='red', s=5)\n",
        "    ax[index].plot(x_vals, h)\n",
        "    ax[index].set_title(col_names[index])\n",
        "\n",
        "print(\"Thetas:\", total_thetas)\n",
        "print(\"Losses:\", total_loss)\n",
        "\n",
        "plt.tight_layout()\n",
        "plt.show()"
      ],
      "metadata": {
        "colab": {
          "base_uri": "https://localhost:8080/",
          "height": 523
        },
        "id": "2ZOVsyXQvItk",
        "outputId": "cb97f83f-8a0e-4e07-9b5a-c902c5ea0ff8"
      },
      "execution_count": 25,
      "outputs": [
        {
          "output_type": "stream",
          "name": "stdout",
          "text": [
            "Thetas: [array([ 5.29294728, -1.79119079]), array([0.68701995, 0.57669462]), array([ 2.59118664, -0.40965135])]\n",
            "Losses: [1.0364360799429273, 3.5996728289711006, 3.6396602056308045]\n"
          ]
        },
        {
          "output_type": "display_data",
          "data": {
            "text/plain": [
              "<Figure size 640x480 with 3 Axes>"
            ],
            "image/png": "[encoded data removed]"
          },
          "metadata": {}
        }
      ]
    },
    {
      "cell_type": "markdown",
      "source": [
        "Information gathering for Problem 2"
      ],
      "metadata": {
        "id": "631Hg4IWwsEw"
      }
    },
    {
      "cell_type": "code",
      "source": [
        "# Gathering the Information\n",
        "\n",
        "df = pd.read_csv(\"https://raw.githubusercontent.com/samofuture/Intro-to-ML/main/HW1/D3.csv\")\n",
        "\n",
        "cols = df.columns\n",
        "y = np.array(df['Y'])\n",
        "m = len(y)\n",
        "cols = cols[:-1]\n",
        "total_thetas : list = []\n",
        "total_loss : list = []\n",
        "\n",
        "x0 = np.ones((m, 1))\n",
        "x1 = np.array(df[cols[0]])\n",
        "x2 = np.array(df[cols[1]])\n",
        "x3 = np.array(df[cols[2]])\n",
        "x1 = x1.reshape(m, 1)\n",
        "x2 = x2.reshape(m, 1)\n",
        "x3 = x3.reshape(m, 1)\n",
        "x = np.hstack((x0, x1, x2, x3))\n",
        "\n",
        "theta = np.zeros(4)"
      ],
      "metadata": {
        "id": "IWjah282uqIV"
      },
      "execution_count": 21,
      "outputs": []
    },
    {
      "cell_type": "markdown",
      "source": [
        "Calculating Linear Regression for all Inputs"
      ],
      "metadata": {
        "id": "lV2gIZemwzQk"
      }
    },
    {
      "cell_type": "code",
      "execution_count": 23,
      "metadata": {
        "colab": {
          "base_uri": "https://localhost:8080/",
          "height": 481
        },
        "id": "JUwjzykdsw2h",
        "outputId": "bcaeec3e-6a66-4a57-e701-15401c91a567"
      },
      "outputs": [
        {
          "output_type": "stream",
          "name": "stdout",
          "text": [
            "Thetas: [array([ 5.31416557, -2.00371904,  0.5325636 , -0.26560163])]\n",
            "Losses: [0.7384646851794184]\n"
          ]
        },
        {
          "output_type": "display_data",
          "data": {
            "text/plain": [
              "<Figure size 640x480 with 1 Axes>"
            ],
            "image/png": "[encoded data removed]"
          },
          "metadata": {}
        }
      ],
      "source": [
        "j : list = []\n",
        "alpha = 0.05\n",
        "\n",
        "for i in range(1500):\n",
        "    predictions = x.dot(theta)\n",
        "    errors = np.subtract(predictions, y)\n",
        "    sum_delta = (alpha / m) * x.transpose().dot(errors)\n",
        "    theta -= sum_delta\n",
        "    loss = find_loss(theta, x, y)\n",
        "    j.append(loss)\n",
        "\n",
        "print(\"Thetas:\", total_thetas)\n",
        "print(\"Losses:\", total_loss)\n",
        "\n",
        "total_thetas.append(theta)\n",
        "total_loss.append(j[-1])\n",
        "\n",
        "plt.plot(j)\n",
        "plt.show()"
      ]
    },
    {
      "cell_type": "markdown",
      "source": [
        "Predicting Values"
      ],
      "metadata": {
        "id": "xYOVAKbFw8wD"
      }
    },
    {
      "cell_type": "code",
      "source": [
        "test_1 = [1, 1, 1]\n",
        "test_2 = [2, 0, 4]\n",
        "test_3 = [3, 2, 1]\n",
        "\n",
        "p1 = theta[0] + test_1[0] * theta[1] + test_1[1] * theta[2] + test_1[2] * theta[3]\n",
        "p2 = theta[0] + test_2[0] * theta[1] + test_2[1] * theta[2] + test_2[2] * theta[3]\n",
        "p3 = theta[0] + test_3[0] * theta[1] + test_3[1] * theta[2] + test_3[2] * theta[3]\n",
        "\n",
        "print(p1)\n",
        "print(p2)\n",
        "print(p3)"
      ],
      "metadata": {
        "colab": {
          "base_uri": "https://localhost:8080/"
        },
        "id": "B5AfWJ7YtUgk",
        "outputId": "a7863451-c8cb-4c0b-d837-6a0c79629f98"
      },
      "execution_count": 24,
      "outputs": [
        {
          "output_type": "stream",
          "name": "stdout",
          "text": [
            "3.5774084969375677\n",
            "0.24432096244628765\n",
            "0.10253401386165473\n"
          ]
        }
      ]
    }
  ]
}